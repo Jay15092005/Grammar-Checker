{
 "cells": [
  {
   "cell_type": "code",
   "execution_count": 7,
   "metadata": {},
   "outputs": [
    {
     "name": "stdout",
     "output_type": "stream",
     "text": [
      "T h e   c a t   i s   o n   t h e   m a t .   T h e   d o g s   e l e p h a n t   i n   t h e   h o u s e .\n"
     ]
    }
   ],
   "source": [
    "import re\n",
    "import nltk\n",
    "from textblob import TextBlob\n",
    "\n",
    "def grammar_checker(text):\n",
    "  \"\"\"\n",
    "  Checks a piece of text for grammatical errors using a natural language processing library.\n",
    "\n",
    "  Args:\n",
    "    text: The text to check.\n",
    "\n",
    "  Returns:\n",
    "    A string of grammatical errors, if any.\n",
    "  \"\"\"\n",
    "\n",
    "  errors = []\n",
    "\n",
    "  # Create a textblob instance.\n",
    "  blob = TextBlob(text)\n",
    "\n",
    "  # Check for grammatical errors.\n",
    "  errors += blob.correct()\n",
    "\n",
    "  # Join the errors into a string.\n",
    "  errors_string = \" \".join(errors)\n",
    "\n",
    "  return errors_string\n",
    "\n",
    "\n",
    "if __name__ == \"__main__\":\n",
    "  text = \"The cat ise ron the mat. The dogs elaphont in the house.\"\n",
    "  errors_string = grammar_checker(text)\n",
    "  print(errors_string)\n"
   ]
  }
 ],
 "metadata": {
  "kernelspec": {
   "display_name": "Python 3",
   "language": "python",
   "name": "python3"
  },
  "language_info": {
   "codemirror_mode": {
    "name": "ipython",
    "version": 3
   },
   "file_extension": ".py",
   "mimetype": "text/x-python",
   "name": "python",
   "nbconvert_exporter": "python",
   "pygments_lexer": "ipython3",
   "version": "3.11.3"
  },
  "orig_nbformat": 4
 },
 "nbformat": 4,
 "nbformat_minor": 2
}
